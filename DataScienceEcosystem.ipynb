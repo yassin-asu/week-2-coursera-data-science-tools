{
 "cells": [
  {
   "cell_type": "markdown",
   "id": "172d335d-3372-48ea-a7eb-4d81e82df956",
   "metadata": {},
   "source": [
    "# |Data Science Tools and Ecosystem\n"
   ]
  },
  {
   "cell_type": "markdown",
   "id": "85d13d9d-9596-4898-83b4-b49f20a1e6f8",
   "metadata": {},
   "source": [
    "In this notebook, Data Science Tools and Ecosystem are summarized."
   ]
  },
  {
   "cell_type": "markdown",
   "id": "ec70ebca-b61f-48a9-bd5c-6f95bf57a849",
   "metadata": {},
   "source": [
    "**Objectives:**\n",
    "List popular languages for Data Science\n",
    "1. C++\n",
    "2. PYTHON\n",
    "3. R\n",
    "4. JAVA\n",
    "5. SCALA"
   ]
  },
  {
   "cell_type": "markdown",
   "id": "58e27ae6-d7fb-466e-8cc7-78863d9495b3",
   "metadata": {},
   "source": [
    "Some of the popular languages that Data Scientists use are:"
   ]
  },
  {
   "cell_type": "markdown",
   "id": "5f588bcc-6bd0-4f31-875c-bc1e5515bc76",
   "metadata": {},
   "source": [
    "1. PYTHON\n",
    "2. R\n",
    "3. C++ "
   ]
  },
  {
   "cell_type": "markdown",
   "id": "d6d1e15c-893c-47fd-8f8f-0c2c22820d06",
   "metadata": {},
   "source": [
    "Some of the commonly used libraries used by Data Scientists include:"
   ]
  },
  {
   "cell_type": "markdown",
   "id": "d9433ae9-82bf-4beb-90df-2bf9188d5423",
   "metadata": {},
   "source": [
    "1. numpy\n",
    "2. pandas\n",
    "3. Matplotlib"
   ]
  },
  {
   "cell_type": "markdown",
   "id": "cf038e39-2ca6-4b18-8da8-788c06569c57",
   "metadata": {},
   "source": [
    "| Data Science Tools   |\n",
    "| -------- |\n",
    "| jupyter  |\n",
    "| git |\n",
    "| apachespark    |"
   ]
  },
  {
   "cell_type": "markdown",
   "id": "44f178af-aac7-4d1f-849a-bfad8d332ae7",
   "metadata": {},
   "source": [
    "### Below are a few examples of evaluating arithmetic expressions in Python"
   ]
  },
  {
   "cell_type": "code",
   "execution_count": 4,
   "id": "b4666cbc-bd35-49ae-93b1-e9c2e39a3895",
   "metadata": {},
   "outputs": [
    {
     "data": {
      "text/plain": [
       "17"
      ]
     },
     "execution_count": 4,
     "metadata": {},
     "output_type": "execute_result"
    }
   ],
   "source": [
    "# This a simple arithmetic expression to mutiply then add integers\n",
    "(3*4)+5"
   ]
  },
  {
   "cell_type": "code",
   "execution_count": 9,
   "id": "9c9c3402-3327-4f04-bc1e-97e69d636d4a",
   "metadata": {},
   "outputs": [
    {
     "data": {
      "text/plain": [
       "3.3333333333333335"
      ]
     },
     "execution_count": 9,
     "metadata": {},
     "output_type": "execute_result"
    }
   ],
   "source": [
    "# This will convert 200 minutes to hours by diving by 60\n",
    "200/60 \n"
   ]
  },
  {
   "cell_type": "markdown",
   "id": "77ac6668-2646-4678-90cd-03c4fa236a24",
   "metadata": {},
   "source": [
    "## Author\n",
    "YASSIN ABDA"
   ]
  },
  {
   "cell_type": "code",
   "execution_count": null,
   "id": "4ffef1fb-9a1d-42e3-84c1-5010a030ea73",
   "metadata": {},
   "outputs": [],
   "source": []
  }
 ],
 "metadata": {
  "kernelspec": {
   "display_name": "Python",
   "language": "python",
   "name": "conda-env-python-py"
  },
  "language_info": {
   "codemirror_mode": {
    "name": "ipython",
    "version": 3
   },
   "file_extension": ".py",
   "mimetype": "text/x-python",
   "name": "python",
   "nbconvert_exporter": "python",
   "pygments_lexer": "ipython3",
   "version": "3.7.12"
  }
 },
 "nbformat": 4,
 "nbformat_minor": 5
}
